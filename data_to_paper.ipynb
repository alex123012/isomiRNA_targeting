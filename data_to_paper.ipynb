{
 "cells": [
  {
   "cell_type": "code",
   "execution_count": null,
   "id": "403f8533",
   "metadata": {},
   "outputs": [],
   "source": [
    "import pandas as pd\n",
    "from tqdm.auto import tqdm"
   ]
  },
  {
   "cell_type": "markdown",
   "id": "8e5fe256",
   "metadata": {},
   "source": [
    "# Get data for paper"
   ]
  },
  {
   "cell_type": "code",
   "execution_count": null,
   "id": "5e942541",
   "metadata": {},
   "outputs": [],
   "source": [
    "path_to_ts = '/home/Mount_sda1/alexmakh/TargetScan/result_CWCS.tsv'\n",
    "path_to_mirdb = '/home/Mount_sda1/alexmakh/isomiRNA/mirdb_custom_isores.tsv'\n",
    "path_to_mirdb_new = '/home/Mount_sda1/alexmakh/isomiRNA/mirdb_custom_isores_errs.tsv'\n",
    "path_to_mapper = '/home/Mount_sda1/alexmakh/TargetScan/input/UTR_sequences_human.txt'"
   ]
  },
  {
   "cell_type": "code",
   "execution_count": null,
   "id": "050e2044",
   "metadata": {},
   "outputs": [],
   "source": [
    "genes = 'Gene Symbol'\n",
    "refseq = 'Refseq ID'"
   ]
  },
  {
   "cell_type": "code",
   "execution_count": null,
   "id": "207cd75c",
   "metadata": {},
   "outputs": [],
   "source": [
    "ts = pd.read_csv(path_to_ts, sep='\\t', header=None).rename(columns={0: refseq, 1: 'isomiRNA', 2: 'CWCS'})\n",
    "ts = ts.sort_values('CWCS')\n",
    "ts = ts.drop_duplicates([refseq, 'isomiRNA'], keep='first')\n",
    "ts[['pre-miRNA', 'isomiRNA']] = ts['isomiRNA'].str.split('.').tolist()"
   ]
  },
  {
   "cell_type": "code",
   "execution_count": null,
   "id": "f0005b53",
   "metadata": {},
   "outputs": [],
   "source": [
    "mirdb = pd.read_csv(path_to_mirdb, sep='\\t').sort_values('Target Score', ascending=False)\n",
    "mirdb = mirdb.drop_duplicates([genes, 'isomiRNA'], keep='first')"
   ]
  },
  {
   "cell_type": "code",
   "execution_count": null,
   "id": "bd8b47a9",
   "metadata": {},
   "outputs": [],
   "source": [
    "mirdb_new = pd.read_csv(path_to_mirdb_new, sep='\\t').sort_values('Target Score', ascending=False)\n",
    "mirdb_new = mirdb_new.drop_duplicates([genes, 'isomiRNA'], keep='first')"
   ]
  },
  {
   "cell_type": "code",
   "execution_count": null,
   "id": "21287cda",
   "metadata": {},
   "outputs": [],
   "source": [
    "def pshape(df, name):\n",
    "    print(f'{name}: {df.shape}')"
   ]
  },
  {
   "cell_type": "code",
   "execution_count": null,
   "id": "0d088f92",
   "metadata": {},
   "outputs": [],
   "source": [
    "for i, j in zip([ts, mirdb, mirdb_new], ['ts', 'mirdb', 'mirdb_new']):\n",
    "    pshape(i, j)"
   ]
  },
  {
   "cell_type": "code",
   "execution_count": null,
   "id": "06851697",
   "metadata": {},
   "outputs": [],
   "source": [
    "mirdb = pd.concat([mirdb, mirdb_new], axis=0).sort_values('Target Score', ascending=False)\n",
    "mirdb = mirdb.drop_duplicates([genes, 'isomiRNA'], keep='first')\n",
    "pshape(mirdb, 'mirdb_concat')"
   ]
  },
  {
   "cell_type": "code",
   "execution_count": null,
   "id": "dab1840d",
   "metadata": {},
   "outputs": [],
   "source": [
    "mapper = pd.read_csv(path_to_mapper, sep='\\t')[[refseq, genes]].drop_duplicates()\n",
    "pshape(mapper, 'mapper')\n",
    "mapper.head()"
   ]
  },
  {
   "cell_type": "code",
   "execution_count": null,
   "id": "31a2c16e",
   "metadata": {},
   "outputs": [],
   "source": [
    "ts_ = ts.set_index(refseq).join(mapper.set_index(refseq)).reset_index(drop=True)\n",
    "pshape(ts_, 'new ts')\n",
    "ts_ = ts_[['isomiRNA', 'CWCS', genes, 'pre-miRNA']].drop_duplicates([genes, 'isomiRNA'], keep='first')\n",
    "pshape(ts_, 'new ts no duplicates')\n",
    "ts_.head()"
   ]
  },
  {
   "cell_type": "code",
   "execution_count": null,
   "id": "2cff6f3a",
   "metadata": {},
   "outputs": [],
   "source": [
    "ts = ts_.copy()"
   ]
  },
  {
   "cell_type": "code",
   "execution_count": null,
   "id": "e437c834",
   "metadata": {},
   "outputs": [],
   "source": [
    "path_to_save = '/home/alexmakh/huge/alexmakh/data_to_paper/'"
   ]
  },
  {
   "cell_type": "code",
   "execution_count": null,
   "id": "8c49788a",
   "metadata": {},
   "outputs": [],
   "source": [
    "ts.to_csv(path_to_save + 'ts_res_full.tsv', sep='\\t', index=None)\n",
    "mirdb.to_csv(path_to_save + 'mirdb_res_full.tsv', sep='\\t', index=None)\n",
    "\n",
    "mirdb[mirdb['Target Score'] >= 80].to_csv(path_to_save + 'mirdb_res_80_upper.tsv', sep='\\t', index=None)\n",
    "\n",
    "mirdb_mirs = set(mirdb['isomiRNA'])\n",
    "ts_mirs = set(ts['isomiRNA'])\n",
    "print('mirdb - ts mirnas:', len(mirdb_mirs - ts_mirs), 'ts - mirdb mirnas', len(ts_mirs - mirdb_mirs))\n",
    "\n",
    "ts_mir_count = pd.DataFrame()\n",
    "\n",
    "ts_ = ts.set_index('isomiRNA')\n",
    "mirdb_ = mirdb.set_index('isomiRNA')"
   ]
  },
  {
   "cell_type": "code",
   "execution_count": null,
   "id": "9fd7bc33",
   "metadata": {},
   "outputs": [],
   "source": [
    "ts_ = pd.read_csv(path_to_save + 'ts_res_full.tsv', sep='\\t', index_col=0)\n",
    "mirdb_ = pd.read_csv(path_to_save + 'mirdb_res_full.tsv', sep='\\t', index_col=0)\n",
    "ts_.shape, mirdb_.shape"
   ]
  },
  {
   "cell_type": "code",
   "execution_count": null,
   "id": "a63b66c5",
   "metadata": {},
   "outputs": [],
   "source": [
    "mirdb_mirs = set(mirdb_.index)\n",
    "for mir in tqdm(mirdb_mirs):\n",
    "    count = mirdb_.loc[mir].shape[0]\n",
    "    t_ = ts_.loc[mir].sort_values('CWCS')\n",
    "\n",
    "    if count >= t_.shape[0]:\n",
    "        print('mirdb shape more than targetscan', mir)\n",
    "    t_.iloc[:count].to_csv(path_to_save + 'ts_res_like_mirdb.tsv', sep='\\t', mode='a', header=None)"
   ]
  },
  {
   "cell_type": "markdown",
   "id": "58a5e026",
   "metadata": {},
   "source": [
    "#### Append to first line:\n",
    "|isomiRNA|CWCS|Gene Symbol|pre-miRNA\n",
    "|-|-|-|-|"
   ]
  },
  {
   "cell_type": "code",
   "execution_count": null,
   "id": "cb031e8a",
   "metadata": {},
   "outputs": [],
   "source": [
    "!sed -i '1 iisomiRNA\\tCWCS\\tGene Symbol\\tpre-miRNA' /home/alexmakh/huge/alexmakh/data_to_paper/ts_res_like_mirdb.tsv"
   ]
  },
  {
   "cell_type": "markdown",
   "id": "303af865",
   "metadata": {},
   "source": [
    "# Get TS and mirdb intersections"
   ]
  },
  {
   "cell_type": "code",
   "execution_count": null,
   "id": "be947e29",
   "metadata": {},
   "outputs": [],
   "source": [
    "gene_symbol = 'Gene Symbol'\n",
    "isomir = 'isomiRNA'"
   ]
  },
  {
   "cell_type": "code",
   "execution_count": null,
   "id": "c766602f",
   "metadata": {},
   "outputs": [],
   "source": [
    "path_to_data = '/home/Mount_sda1/alexmakh/data_to_paper/'"
   ]
  },
  {
   "cell_type": "code",
   "execution_count": null,
   "id": "a4d06733",
   "metadata": {},
   "outputs": [],
   "source": [
    "mirdb = pd.read_csv(path_to_data + 'mirdb_res_full.tsv', sep='\\t', index_col=0)\n",
    "mirdb"
   ]
  },
  {
   "cell_type": "code",
   "execution_count": null,
   "id": "8024fdd2",
   "metadata": {},
   "outputs": [],
   "source": [
    "ts = pd.read_csv(path_to_data + 'ts_res_full.tsv', sep='\\t', index_col=0)\n",
    "ts"
   ]
  },
  {
   "cell_type": "code",
   "execution_count": null,
   "id": "00e95fe4",
   "metadata": {},
   "outputs": [],
   "source": [
    "mirdb80 = pd.read_csv(path_to_data + 'mirdb_res_80_upper.tsv', sep='\\t', index_col=0)\n",
    "mirdb80"
   ]
  },
  {
   "cell_type": "code",
   "execution_count": null,
   "id": "5e516b80",
   "metadata": {},
   "outputs": [],
   "source": [
    "ts80 = pd.read_csv(path_to_data + 'ts_res_like_mirdb.tsv', sep='\\t', index_col=0)\n",
    "ts80"
   ]
  },
  {
   "cell_type": "code",
   "execution_count": null,
   "id": "bbebc71f",
   "metadata": {},
   "outputs": [],
   "source": [
    "mirdb_mirs = set(mirdb80.index)\n",
    "intersec = pd.DataFrame({}, columns=[isomir, 'ts_full', 'ts_short']).set_index(isomir)\n",
    "len(mirdb_mirs)"
   ]
  },
  {
   "cell_type": "code",
   "execution_count": null,
   "id": "2fcf2e27",
   "metadata": {},
   "outputs": [],
   "source": [
    "for mir in tqdm(mirdb_mirs):\n",
    "    t_ = set(ts.loc[mir, gene_symbol])\n",
    "    m_ = set(mirdb80.loc[mir, gene_symbol])\n",
    "    intersec.loc[mir, 'ts_full'] = len(t_ & m_) / len(m_) * 100"
   ]
  },
  {
   "cell_type": "code",
   "execution_count": null,
   "id": "e094a375",
   "metadata": {},
   "outputs": [],
   "source": [
    "intersec.to_csv(path_to_data + 'comparasion.tsv', sep='\\t')"
   ]
  },
  {
   "cell_type": "code",
   "execution_count": null,
   "id": "aace4438",
   "metadata": {},
   "outputs": [],
   "source": [
    "for mir in tqdm(mirdb_mirs):\n",
    "    t_ = set(ts80.loc[mir, gene_symbol])\n",
    "    m_ = set(mirdb80.loc[mir, gene_symbol])\n",
    "    intersec.loc[mir, 'ts_short'] = len(t_ & m_) / len(m_) * 100"
   ]
  },
  {
   "cell_type": "code",
   "execution_count": null,
   "id": "9e7965c0",
   "metadata": {},
   "outputs": [],
   "source": [
    "intersec.to_csv(path_to_data + 'comparasion.tsv', sep='\\t')"
   ]
  }
 ],
 "metadata": {
  "kernelspec": {
   "display_name": "Python 3",
   "language": "python",
   "name": "python3"
  },
  "language_info": {
   "codemirror_mode": {
    "name": "ipython",
    "version": 3
   },
   "file_extension": ".py",
   "mimetype": "text/x-python",
   "name": "python",
   "nbconvert_exporter": "python",
   "pygments_lexer": "ipython3",
   "version": "3.8.9"
  }
 },
 "nbformat": 4,
 "nbformat_minor": 5
}
