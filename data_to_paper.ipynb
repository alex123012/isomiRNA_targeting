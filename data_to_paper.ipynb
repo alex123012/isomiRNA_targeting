{
 "cells": [
  {
   "cell_type": "code",
   "execution_count": 1,
   "id": "403f8533",
   "metadata": {},
   "outputs": [],
   "source": [
    "import pandas as pd\n",
    "from tqdm.auto import tqdm"
   ]
  },
  {
   "cell_type": "markdown",
   "id": "8e5fe256",
   "metadata": {},
   "source": [
    "# Get data for paper"
   ]
  },
  {
   "cell_type": "code",
   "execution_count": 2,
   "id": "5e942541",
   "metadata": {},
   "outputs": [],
   "source": [
    "path_to_ts = '/home/Mount_sda1/alexmakh/TargetScan/result_CWCS.tsv'\n",
    "path_to_mirdb = '/home/Mount_sda1/alexmakh/isomiRNA/mirdb_custom_isores.tsv'\n",
    "path_to_mirdb_new = '/home/Mount_sda1/alexmakh/isomiRNA/mirdb_custom_isores_errs.tsv'\n",
    "path_to_mapper = '/home/Mount_sda1/alexmakh/TargetScan/input/UTR_sequences_human.txt'"
   ]
  },
  {
   "cell_type": "code",
   "execution_count": 3,
   "id": "050e2044",
   "metadata": {},
   "outputs": [],
   "source": [
    "genes = 'Gene Symbol'\n",
    "refseq = 'Refseq ID'\n",
    "isomir = 'isomiRNA'"
   ]
  },
  {
   "cell_type": "code",
   "execution_count": 4,
   "id": "207cd75c",
   "metadata": {},
   "outputs": [],
   "source": [
    "ts = pd.read_csv(path_to_ts, sep='\\t', header=None).rename(columns={0: refseq, 1: isomir, 2: 'CWCS'})\n",
    "ts[['pre-miRNA', isomir]] = ts[isomir].str.split('.').tolist()\n",
    "ts = ts.sort_values('CWCS').drop_duplicates([refseq, isomir], keep='first')"
   ]
  },
  {
   "cell_type": "code",
   "execution_count": 5,
   "id": "f0005b53",
   "metadata": {},
   "outputs": [],
   "source": [
    "mirdb = pd.read_csv(path_to_mirdb, sep='\\t').sort_values('Target Score', ascending=False)\n",
    "mirdb = mirdb.drop_duplicates([genes, isomir], keep='first')\n",
    "\n",
    "mirdb_new = pd.read_csv(path_to_mirdb_new, sep='\\t').sort_values('Target Score', ascending=False)\n",
    "mirdb_new = mirdb_new.drop_duplicates([genes, isomir], keep='first')"
   ]
  },
  {
   "cell_type": "code",
   "execution_count": 6,
   "id": "21287cda",
   "metadata": {},
   "outputs": [],
   "source": [
    "def pshape(df, name):\n",
    "    print(f'{name}: {df.shape}')"
   ]
  },
  {
   "cell_type": "code",
   "execution_count": 7,
   "id": "0d088f92",
   "metadata": {},
   "outputs": [
    {
     "name": "stdout",
     "output_type": "stream",
     "text": [
      "ts: (101618911, 4)\n",
      "mirdb: (6695459, 4)\n",
      "mirdb_new: (147575, 4)\n"
     ]
    }
   ],
   "source": [
    "for i, j in zip([ts, mirdb, mirdb_new], ['ts', 'mirdb', 'mirdb_new']):\n",
    "    pshape(i, j)"
   ]
  },
  {
   "cell_type": "code",
   "execution_count": 8,
   "id": "06851697",
   "metadata": {},
   "outputs": [
    {
     "name": "stdout",
     "output_type": "stream",
     "text": [
      "mirdb_concat: (6843034, 4)\n"
     ]
    }
   ],
   "source": [
    "mirdb = pd.concat([mirdb, mirdb_new], axis=0).sort_values('Target Score', ascending=False)\n",
    "mirdb = mirdb.drop_duplicates([genes, isomir], keep='first')\n",
    "pshape(mirdb, 'mirdb_concat')"
   ]
  },
  {
   "cell_type": "code",
   "execution_count": 9,
   "id": "dab1840d",
   "metadata": {},
   "outputs": [
    {
     "name": "stdout",
     "output_type": "stream",
     "text": [
      "mapper: (28352, 2)\n"
     ]
    },
    {
     "data": {
      "text/html": [
       "<div>\n",
       "<style scoped>\n",
       "    .dataframe tbody tr th:only-of-type {\n",
       "        vertical-align: middle;\n",
       "    }\n",
       "\n",
       "    .dataframe tbody tr th {\n",
       "        vertical-align: top;\n",
       "    }\n",
       "\n",
       "    .dataframe thead th {\n",
       "        text-align: right;\n",
       "    }\n",
       "</style>\n",
       "<table border=\"1\" class=\"dataframe\">\n",
       "  <thead>\n",
       "    <tr style=\"text-align: right;\">\n",
       "      <th></th>\n",
       "      <th>Refseq ID</th>\n",
       "      <th>Gene Symbol</th>\n",
       "    </tr>\n",
       "  </thead>\n",
       "  <tbody>\n",
       "    <tr>\n",
       "      <th>0</th>\n",
       "      <td>CDR1as</td>\n",
       "      <td>CDR1as</td>\n",
       "    </tr>\n",
       "    <tr>\n",
       "      <th>1</th>\n",
       "      <td>ENST00000000233.5</td>\n",
       "      <td>ARF5</td>\n",
       "    </tr>\n",
       "    <tr>\n",
       "      <th>2</th>\n",
       "      <td>ENST00000000412.3</td>\n",
       "      <td>M6PR</td>\n",
       "    </tr>\n",
       "    <tr>\n",
       "      <th>3</th>\n",
       "      <td>ENST00000001008.4</td>\n",
       "      <td>FKBP4</td>\n",
       "    </tr>\n",
       "    <tr>\n",
       "      <th>4</th>\n",
       "      <td>ENST00000001146.2</td>\n",
       "      <td>CYP26B1</td>\n",
       "    </tr>\n",
       "  </tbody>\n",
       "</table>\n",
       "</div>"
      ],
      "text/plain": [
       "           Refseq ID Gene Symbol\n",
       "0             CDR1as      CDR1as\n",
       "1  ENST00000000233.5        ARF5\n",
       "2  ENST00000000412.3        M6PR\n",
       "3  ENST00000001008.4       FKBP4\n",
       "4  ENST00000001146.2     CYP26B1"
      ]
     },
     "execution_count": 9,
     "metadata": {},
     "output_type": "execute_result"
    }
   ],
   "source": [
    "mapper = pd.read_csv(path_to_mapper, sep='\\t')[[refseq, genes]].drop_duplicates()\n",
    "pshape(mapper, 'mapper')\n",
    "mapper.head()"
   ]
  },
  {
   "cell_type": "code",
   "execution_count": 10,
   "id": "31a2c16e",
   "metadata": {},
   "outputs": [
    {
     "name": "stdout",
     "output_type": "stream",
     "text": [
      "new ts: (101618911, 4)\n",
      "new ts no duplicates: (83478977, 4)\n"
     ]
    },
    {
     "data": {
      "text/html": [
       "<div>\n",
       "<style scoped>\n",
       "    .dataframe tbody tr th:only-of-type {\n",
       "        vertical-align: middle;\n",
       "    }\n",
       "\n",
       "    .dataframe tbody tr th {\n",
       "        vertical-align: top;\n",
       "    }\n",
       "\n",
       "    .dataframe thead th {\n",
       "        text-align: right;\n",
       "    }\n",
       "</style>\n",
       "<table border=\"1\" class=\"dataframe\">\n",
       "  <thead>\n",
       "    <tr style=\"text-align: right;\">\n",
       "      <th></th>\n",
       "      <th>isomiRNA</th>\n",
       "      <th>CWCS</th>\n",
       "      <th>Gene Symbol</th>\n",
       "      <th>pre-miRNA</th>\n",
       "    </tr>\n",
       "  </thead>\n",
       "  <tbody>\n",
       "    <tr>\n",
       "      <th>77892837</th>\n",
       "      <td>hsa-miR-6795-3p|+2</td>\n",
       "      <td>-94.434</td>\n",
       "      <td>FAM230A</td>\n",
       "      <td>hsa-mir-6795</td>\n",
       "    </tr>\n",
       "    <tr>\n",
       "      <th>77892838</th>\n",
       "      <td>hsa-miR-3196|+1</td>\n",
       "      <td>-88.142</td>\n",
       "      <td>FAM230A</td>\n",
       "      <td>hsa-mir-3196</td>\n",
       "    </tr>\n",
       "    <tr>\n",
       "      <th>66440011</th>\n",
       "      <td>hsa-miR-1253|+2</td>\n",
       "      <td>-87.869</td>\n",
       "      <td>ANKDD1A</td>\n",
       "      <td>hsa-mir-1253</td>\n",
       "    </tr>\n",
       "    <tr>\n",
       "      <th>81813054</th>\n",
       "      <td>hsa-miR-6732-3p|+2</td>\n",
       "      <td>-86.129</td>\n",
       "      <td>MUC19</td>\n",
       "      <td>hsa-mir-6732</td>\n",
       "    </tr>\n",
       "    <tr>\n",
       "      <th>66440012</th>\n",
       "      <td>hsa-miR-3185|0</td>\n",
       "      <td>-86.126</td>\n",
       "      <td>ANKDD1A</td>\n",
       "      <td>hsa-mir-3185</td>\n",
       "    </tr>\n",
       "  </tbody>\n",
       "</table>\n",
       "</div>"
      ],
      "text/plain": [
       "                    isomiRNA    CWCS Gene Symbol     pre-miRNA\n",
       "77892837  hsa-miR-6795-3p|+2 -94.434     FAM230A  hsa-mir-6795\n",
       "77892838     hsa-miR-3196|+1 -88.142     FAM230A  hsa-mir-3196\n",
       "66440011     hsa-miR-1253|+2 -87.869     ANKDD1A  hsa-mir-1253\n",
       "81813054  hsa-miR-6732-3p|+2 -86.129       MUC19  hsa-mir-6732\n",
       "66440012      hsa-miR-3185|0 -86.126     ANKDD1A  hsa-mir-3185"
      ]
     },
     "execution_count": 10,
     "metadata": {},
     "output_type": "execute_result"
    }
   ],
   "source": [
    "ts_ = ts.set_index(refseq).join(mapper.set_index(refseq)).reset_index(drop=True)\n",
    "pshape(ts_, 'new ts')\n",
    "\n",
    "ts_ = ts_[[isomir, 'CWCS', genes, 'pre-miRNA']].sort_values('CWCS').drop_duplicates([genes, 'isomiRNA'], keep='first')\n",
    "pshape(ts_, 'new ts no duplicates')\n",
    "\n",
    "ts_.head()"
   ]
  },
  {
   "cell_type": "code",
   "execution_count": 11,
   "id": "2cff6f3a",
   "metadata": {},
   "outputs": [],
   "source": [
    "ts = ts_.copy()"
   ]
  },
  {
   "cell_type": "code",
   "execution_count": 12,
   "id": "e437c834",
   "metadata": {},
   "outputs": [],
   "source": [
    "path_to_save = '/home/alexmakh/huge/alexmakh/data_to_paper/'"
   ]
  },
  {
   "cell_type": "code",
   "execution_count": 13,
   "id": "8c49788a",
   "metadata": {},
   "outputs": [
    {
     "name": "stdout",
     "output_type": "stream",
     "text": [
      "mirdb - ts mirnas: 0 ts - mirdb mirnas 117\n"
     ]
    }
   ],
   "source": [
    "ts.to_csv(path_to_save + 'ts_res_full.tsv', sep='\\t', index=None)\n",
    "mirdb.to_csv(path_to_save + 'mirdb_res_full.tsv', sep='\\t', index=None)\n",
    "\n",
    "mirdb[mirdb['Target Score'] >= 80].to_csv(path_to_save + 'mirdb_res_80_upper.tsv', sep='\\t', index=None)\n",
    "\n",
    "mirdb_mirs = set(mirdb['isomiRNA'])\n",
    "ts_mirs = set(ts['isomiRNA'])\n",
    "print('mirdb - ts mirnas:', len(mirdb_mirs - ts_mirs), 'ts - mirdb mirnas', len(ts_mirs - mirdb_mirs))"
   ]
  },
  {
   "cell_type": "code",
   "execution_count": 14,
   "id": "030e652f",
   "metadata": {},
   "outputs": [],
   "source": [
    "%reset -f"
   ]
  },
  {
   "cell_type": "code",
   "execution_count": 15,
   "id": "67882442",
   "metadata": {},
   "outputs": [],
   "source": [
    "import pandas as pd\n",
    "from tqdm.auto import tqdm\n",
    "path_to_save = '/home/alexmakh/huge/alexmakh/data_to_paper/'\n",
    "genes = 'Gene Symbol'\n",
    "refseq = 'Refseq ID'\n",
    "isomir = 'isomiRNA'"
   ]
  },
  {
   "cell_type": "code",
   "execution_count": 16,
   "id": "9fd7bc33",
   "metadata": {},
   "outputs": [
    {
     "data": {
      "text/plain": [
       "((83478977, 3), (1751327, 3))"
      ]
     },
     "execution_count": 16,
     "metadata": {},
     "output_type": "execute_result"
    }
   ],
   "source": [
    "ts = pd.read_csv(path_to_save + 'ts_res_full.tsv', sep='\\t', index_col=0)\n",
    "mirdb = pd.read_csv(path_to_save + 'mirdb_res_80_upper.tsv', sep='\\t', index_col=0)\n",
    "ts.shape, mirdb.shape"
   ]
  },
  {
   "cell_type": "code",
   "execution_count": 17,
   "id": "846dae2f",
   "metadata": {},
   "outputs": [
    {
     "name": "stdout",
     "output_type": "stream",
     "text": [
      "CPU times: user 332 ms, sys: 40 ms, total: 372 ms\n",
      "Wall time: 368 ms\n"
     ]
    }
   ],
   "source": [
    "%%time\n",
    "groupby_ts = ts.groupby(isomir)\n",
    "groupby_mirdb = mirdb.groupby(isomir)\n",
    "counts = groupby_mirdb.size()\n",
    "\n",
    "comparasion = pd.DataFrame({}, columns=[isomir, 'TargetScan full', 'TargetScan to mirdb size']).set_index(isomir)"
   ]
  },
  {
   "cell_type": "code",
   "execution_count": 18,
   "id": "d7a8d1d1",
   "metadata": {},
   "outputs": [
    {
     "data": {
      "application/vnd.jupyter.widget-view+json": {
       "model_id": "4fc692dff3db410b93eb15b17909fa5f",
       "version_major": 2,
       "version_minor": 0
      },
      "text/plain": [
       "HBox(children=(HTML(value=''), FloatProgress(value=0.0, max=12258.0), HTML(value='')))"
      ]
     },
     "metadata": {},
     "output_type": "display_data"
    },
    {
     "name": "stdout",
     "output_type": "stream",
     "text": [
      "\n"
     ]
    }
   ],
   "source": [
    "for mir, t_ in tqdm(groupby_ts):\n",
    "\n",
    "    try:\n",
    "        tm_ = t_.nsmallest(counts[mir], 'CWCS')\n",
    "    except KeyError:\n",
    "        continue\n",
    "\n",
    "    tm_.to_csv(path_to_save + 'ts_res_80_upper.tsv', sep='\\t', mode='a', header=None)\n",
    "\n",
    "    \n",
    "    m_ = set(groupby_mirdb.get_group(mir)[genes])\n",
    "    t_ = set(t_[genes])\n",
    "    tm_ = set(tm_[genes])\n",
    "    comparasion.loc[mir, 'TargetScan full'] = len(t_ & m_) / len(m_) * 100\n",
    "    comparasion.loc[mir, 'TargetScan to mirdb size'] = len(tm_ & m_) / len(m_) * 100\n",
    "comparasion.to_csv(path_to_save + 'comparasion.tsv', sep='\\t')"
   ]
  },
  {
   "cell_type": "markdown",
   "id": "58a5e026",
   "metadata": {},
   "source": [
    "#### Append to first line:\n",
    "|isomiRNA|CWCS|Gene Symbol|pre-miRNA\n",
    "|-|-|-|-|"
   ]
  },
  {
   "cell_type": "code",
   "execution_count": 19,
   "id": "1466743d",
   "metadata": {},
   "outputs": [],
   "source": [
    "!sed -i '1 iisomiRNA\\tCWCS\\tGene Symbol\\tpre-miRNA' /home/alexmakh/huge/alexmakh/data_to_paper/ts_res_80_upper.tsv"
   ]
  }
 ],
 "metadata": {
  "kernelspec": {
   "display_name": "Python 3",
   "language": "python",
   "name": "python3"
  },
  "language_info": {
   "codemirror_mode": {
    "name": "ipython",
    "version": 3
   },
   "file_extension": ".py",
   "mimetype": "text/x-python",
   "name": "python",
   "nbconvert_exporter": "python",
   "pygments_lexer": "ipython3",
   "version": "3.8.9"
  }
 },
 "nbformat": 4,
 "nbformat_minor": 5
}
