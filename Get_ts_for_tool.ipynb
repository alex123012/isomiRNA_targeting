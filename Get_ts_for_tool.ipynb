{
 "cells": [
  {
   "cell_type": "code",
   "execution_count": 1,
   "id": "be8ad317",
   "metadata": {},
   "outputs": [],
   "source": [
    "import pandas as pd\n",
    "import os\n",
    "from tqdm.auto import tqdm"
   ]
  },
  {
   "cell_type": "code",
   "execution_count": 2,
   "id": "fc853a65",
   "metadata": {},
   "outputs": [],
   "source": [
    "projecs = ['TCGA-ACC', 'TCGA-BLCA', 'TCGA-BRCA', 'TCGA-CESC', 'TCGA-CHOL', 'TCGA-COAD', 'TCGA-DLBC',\n",
    "           'TCGA-ESCA', 'TCGA-HNSC', 'TCGA-KICH', 'TCGA-KIRC', 'TCGA-KIRP',\n",
    "           'TCGA-LGG', 'TCGA-LIHC', 'TCGA-LUAD', 'TCGA-LUSC', 'TCGA-MESO', 'TCGA-OV', 'TCGA-PAAD',\n",
    "           'TCGA-PCPG', 'TCGA-PRAD', 'TCGA-READ', 'TCGA-SARC', 'TCGA-SKCM', 'TCGA-STAD', 'TCGA-TGCT',\n",
    "           'TCGA-THCA', 'TCGA-THYM', 'TCGA-UCEC', 'TCGA-UCS', 'TCGA-UVM']"
   ]
  },
  {
   "cell_type": "code",
   "execution_count": null,
   "id": "c726693c",
   "metadata": {},
   "outputs": [],
   "source": [
    "pairs = pd.read_csv('/home/Mount_sda1/alexmakh/data_to_paper/ts_res_full.tsv', sep='\\t')\n",
    "pairs = pairs.sort_values('CWCS')[['isomiRNA', 'Gene Symbol', 'CWCS']].copy()\n",
    "\n",
    "pairs = pairs.rename(columns={'isomiRNA': 'isomiR'})\n",
    "pairs.to_csv('/home/Mount_sda1/alexmakh/isomiRNA/interactions.tsv', sep='\\t', index=None)"
   ]
  },
  {
   "cell_type": "code",
   "execution_count": null,
   "id": "8d6b2cbf",
   "metadata": {
    "scrolled": true
   },
   "outputs": [],
   "source": [
    "#interaction files\n",
    "alex_path = '/home/alexgorbonos/huge/alexgorbonos/isomiR_old/TCGA_data/'\n",
    "files = os.listdir(alex_path)\n",
    "len(files)"
   ]
  },
  {
   "cell_type": "code",
   "execution_count": null,
   "id": "a69ffb07",
   "metadata": {
    "scrolled": true
   },
   "outputs": [],
   "source": [
    "for filename in tqdm(files):\n",
    "    data = pd.read_csv(alex_path + filename, sep='\\t', index_col=0)\n",
    "    filename = filename[:-8]\n",
    "    molecules = set(data.index)\n",
    "    mirdb = pd.read_csv(f'/home/alexgorbonos/huge/alexgorbonos/isomiR_research/miRDB/predicted_targets/{filename}.tsv', sep='\\t').groupby('isomiR').size().to_dict()\n",
    "    \n",
    "    pairs_tmp = pairs.copy()\n",
    "    pairs_tmp['isomiR_true_false'] = pairs_tmp['isomiR'].apply(lambda x: x in molecules)\n",
    "    pairs_tmp['gene_true_false'] = pairs_tmp['Gene Symbol'].apply(lambda x: x in molecules)\n",
    "    pairs_tmp = pairs_tmp[pairs_tmp['isomiR_true_false'] & pairs_tmp['gene_true_false']]\n",
    "    pairs_tmp = pairs_tmp[['isomiR', 'Gene Symbol', 'CWCS']]\n",
    "    new_pairs = pd.DataFrame({}, columns=['isomiR', 'Gene Symbol'])\n",
    "    for mir, count in tqdm(mirdb.items()):\n",
    "        tmp = pairs_tmp[pairs_tmp['isomiR'] == mir].sort_values('CWCS').drop('CWCS', axis=1).iloc[:count]\n",
    "        new_pairs = pd.concat([new_pairs, tmp])\n",
    "    \n",
    "    print(f'{filename} interactions count: {new_pairs.shape[0]}')\n",
    "    new_pairs.to_csv(f'/home/alexmakh/huge/alexmakh/isomiRNA/TCGA_data/{filename}.tsv', sep='\\t', index=None)"
   ]
  },
  {
   "cell_type": "raw",
   "id": "49d79d56",
   "metadata": {},
   "source": [
    "# negative control files\n",
    "\n",
    "negative_contol = pd.read_pickle('/home/steve/huge/steve/tmp/mirneg/negative_control/negative_control.pkl')\n",
    "negative_control_array = []\n",
    "for name in tqdm(negative_contol):\n",
    "    for value in negative_contol[name]:\n",
    "        negative_control_array.append([name, value])\n",
    "\n",
    "unpairs = pd.DataFrame(negative_control_array, columns=['isomiR', 'Gene Symbol'])"
   ]
  },
  {
   "cell_type": "raw",
   "id": "534d83b7",
   "metadata": {},
   "source": [
    "print(unpairs.shape)\n",
    "unpairs = unpairs.drop_duplicates()\n",
    "unpairs = unpairs.sort_values('isomiR', ignore_index=bool)\n",
    "print(unpairs.shape)"
   ]
  },
  {
   "cell_type": "raw",
   "id": "8d15312f",
   "metadata": {},
   "source": [
    "for filename in tqdm(os.listdir('/home/alexgorbonos/huge/alexgorbonos/isomiR/TCGA_data/')):\n",
    "    data = pd.read_csv('/home/alexgorbonos/huge/alexgorbonos/isomiR/TCGA_data/' + filename, sep='\\t', index_col=0)\n",
    "    molecules = set(data.index)\n",
    "\n",
    "    unpairs_tmp = unpairs.copy()\n",
    "    unpairs_tmp['isomiR_true_false'] = unpairs_tmp['isomiR'].apply(lambda x: x in molecules)\n",
    "    unpairs_tmp['gene_true_false'] = unpairs_tmp['Gene Symbol'].apply(lambda x: x in molecules)\n",
    "    unpairs_tmp = unpairs_tmp[unpairs_tmp['isomiR_true_false'] & unpairs_tmp['gene_true_false']]\n",
    "    unpairs_tmp = unpairs_tmp[['isomiR', 'Gene Symbol']]\n",
    "    filename = filename[:-8]\n",
    "    unpairs_tmp.to_csv(f'/home/alexmakh/huge/alexmakh/isomiRNA/negative_control/{filename}.tsv', sep='\\t', index=None)"
   ]
  }
 ],
 "metadata": {
  "kernelspec": {
   "display_name": "Python 3",
   "language": "python",
   "name": "python3"
  },
  "language_info": {
   "codemirror_mode": {
    "name": "ipython",
    "version": 3
   },
   "file_extension": ".py",
   "mimetype": "text/x-python",
   "name": "python",
   "nbconvert_exporter": "python",
   "pygments_lexer": "ipython3",
   "version": "3.8.9"
  }
 },
 "nbformat": 4,
 "nbformat_minor": 5
}
